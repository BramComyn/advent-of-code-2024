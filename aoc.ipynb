{
 "cells": [
  {
   "cell_type": "markdown",
   "metadata": {},
   "source": [
    "# Advent of Code 2024"
   ]
  },
  {
   "cell_type": "markdown",
   "metadata": {},
   "source": [
    "Welcome to my solution repository for the Advent of Code (edition 2024)!\n",
    "This repository contains (hopefully) a solution to all exercises.\n",
    "The solutions should be simple enough that anyone with a minor Python knowledge,\n",
    "but a solid internet connection and a curious mind should be able to comprehend all of them.\n",
    "I did my best to implement them in the most readable, yet elegant way and pythonic way I could imagine.\n",
    "Below, we will talk quickly revise each of the solutions, building upon what we learned in previous quests!"
   ]
  },
  {
   "cell_type": "markdown",
   "metadata": {},
   "source": [
    "## Day 1: *Historian Hysteria*\n",
    "\n",
    "The first two quests are simple, but require knowledge on how to read files in Python.\n",
    "I implemented the solution in the files *aoc_01.py* and *aoc_02.py*,\n",
    "however, it's best practice to keep the interaction with your file system as short as possible.\n",
    "That is why I always declared and implemented the input handling functions in *aoc_utils.py*.\n",
    "\n",
    "For this first day, we're looking at the function ``read_lists_01`` (part of the utilities file),\n",
    "which reads the contents of an input file into two lists *left_list* and *right_list*.\n",
    "\n",
    "```python\n",
    "def read_lists_01(input_file=\"data/24-aoc-01.in\"):\n",
    "    left_list = []\n",
    "    right_list = []\n",
    "\n",
    "    with open(input_file, \"r\") as file:\n",
    "        for line in file:\n",
    "            values = line.split(' ')\n",
    "\n",
    "            left_list.append(int(values[0]))\n",
    "            right_list.append(int(values[-1]))\n",
    "\n",
    "    left_list.sort()\n",
    "    right_list.sort()\n",
    "\n",
    "    return left_list, right_list\n",
    "```\n",
    "\n",
    "\\pagebreak\n",
    "\n",
    "This function has some features that might look unfamiliar to those new to Python.\n",
    "\n",
    "- The function's declaration shows that it takes one argument, called ``input_file``.\n",
    "We also see that this argument is set to *\"data/24-aoc-01.in\"* if it is omitted.\n",
    "This means that if we call the function without specifying an input file,\n",
    "this argument will be set to that standard value.\n",
    "\n",
    "- We are opening a file in *read-only* mode.\n",
    "This is done with the ``with open(filename, mode) as`` statement.\n",
    "This statement opens a file in the required mode (*write*, *read*, *append*) and gives you a handle to the file.\n",
    "With this handle, you can use the file as an iterator which returns the lines of the file in-order.\n",
    "There's some other functionality for these file handles,\n",
    "but that would take us too far for this day.\n"
   ]
  },
  {
   "cell_type": "markdown",
   "metadata": {},
   "source": []
  }
 ],
 "metadata": {
  "language_info": {
   "name": "python"
  }
 },
 "nbformat": 4,
 "nbformat_minor": 2
}
